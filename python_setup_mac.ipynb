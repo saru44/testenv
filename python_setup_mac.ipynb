{
 "cells": [
  {
   "cell_type": "markdown",
   "id": "6deb7c24-9677-4dc9-b8f0-7117b0d1bc42",
   "metadata": {},
   "source": [
    "#### Install miniconda: download .pkg from miniconda website and install"
   ]
  },
  {
   "cell_type": "markdown",
   "id": "7da3f9d9-8b30-4ce0-8260-4e27618f68d6",
   "metadata": {},
   "source": [
    "#### Check installation and python version using terminal\n",
    "\n",
    "`which python`\n",
    "\n",
    "`python --version`"
   ]
  },
  {
   "cell_type": "markdown",
   "id": "528e4451-903f-48cf-b080-8423be7b6905",
   "metadata": {},
   "source": [
    "#### Update conda using terminal\n",
    "\n",
    "`conda update conda`"
   ]
  },
  {
   "cell_type": "markdown",
   "id": "0a86ff7b-eecc-4ede-b9ae-436e2e706882",
   "metadata": {},
   "source": [
    "#### Conda cheat sheet: common conda commands\n",
    "\n",
    "> [https://docs.conda.io/projects/conda/en/latest/user-guide/cheatsheet.html](URL)"
   ]
  },
  {
   "cell_type": "markdown",
   "id": "fe68d482-a082-4812-9c8b-363586d0a853",
   "metadata": {},
   "source": [
    "#### Create new virtual environment named  *'testenv'*  with bare python essentials\n",
    "\n",
    "`conda create --name testenv python`"
   ]
  },
  {
   "cell_type": "markdown",
   "id": "ffb2197c-43b8-4a4a-acd6-364a61482016",
   "metadata": {},
   "source": [
    "#### Switch to the 'testenv' environment\n",
    "\n",
    "`conda activate testenv`"
   ]
  },
  {
   "cell_type": "markdown",
   "id": "e69e13ee-4d17-4cee-8b6e-6aebdf9b91e8",
   "metadata": {},
   "source": [
    "#### Install required packages in the testenv\n",
    "\n",
    "`conda install jupyterlab`"
   ]
  },
  {
   "cell_type": "markdown",
   "id": "24253d77-d333-4991-b77f-b74ea4f5222e",
   "metadata": {},
   "source": [
    "#### Start Jupyter lab in the current environment\n",
    "\n",
    "`jupyter lab`"
   ]
  },
  {
   "cell_type": "markdown",
   "id": "39e886d3-d8eb-42a0-9b7d-024ddf61af68",
   "metadata": {},
   "source": [
    "#### Markdown commands in jupyter lab\n",
    "\n",
    "- Headings: ` # , ##, ###, #### `\n",
    "- Make text ITALIC: ` *Italic* `\n",
    "- Make text BOLD: ` **Bold** `\n",
    "- List item as a bullet: dash and space ` -  `\n",
    "- List item as a number: Simple as number and dot ` 1. ` <br>(keep using 1. for every line. It will automatically number in order)\n",
    "- Indenting text: Greater than and space ` > `\n",
    "- Inline code span: Back quotation mark ` ` `\n",
    "- Block of code: Triple back quotation marks ` ``` `\n",
    "- Mathematical symbol: `$ symbols $`\n",
    "- Horizontal lne: On a new line, enter three asterix ` *** `\n",
    "- Link a section: `[Title of Section](#title-of-section)`\n",
    "- Hyperlink: `[Text](URL)`"
   ]
  },
  {
   "cell_type": "markdown",
   "id": "f8700bac-c631-4208-be02-3a96dd40bb90",
   "metadata": {},
   "source": []
  },
  {
   "cell_type": "markdown",
   "id": "bada1d23-d54f-4753-945e-760faf8990d1",
   "metadata": {},
   "source": []
  },
  {
   "cell_type": "markdown",
   "id": "3d42d622-e036-48a9-8d90-31a5f7b26fad",
   "metadata": {},
   "source": []
  },
  {
   "cell_type": "markdown",
   "id": "843f1912-3e22-4efa-8025-dc435ac3e46c",
   "metadata": {},
   "source": []
  },
  {
   "cell_type": "markdown",
   "id": "bfed618f-0c62-4683-ad5e-32e688f7f10e",
   "metadata": {},
   "source": []
  },
  {
   "cell_type": "markdown",
   "id": "9a2a4cab-fc0b-4561-880a-ce8075a79167",
   "metadata": {},
   "source": []
  },
  {
   "cell_type": "markdown",
   "id": "9c0f7c86-cd31-4621-a63b-0aa1d1717c72",
   "metadata": {},
   "source": []
  }
 ],
 "metadata": {
  "kernelspec": {
   "display_name": "Python 3",
   "language": "python",
   "name": "python3"
  },
  "language_info": {
   "codemirror_mode": {
    "name": "ipython",
    "version": 3
   },
   "file_extension": ".py",
   "mimetype": "text/x-python",
   "name": "python",
   "nbconvert_exporter": "python",
   "pygments_lexer": "ipython3",
   "version": "3.9.4"
  }
 },
 "nbformat": 4,
 "nbformat_minor": 5
}
